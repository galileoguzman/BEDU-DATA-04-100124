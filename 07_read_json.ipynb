{
 "cells": [
  {
   "cell_type": "code",
   "execution_count": 7,
   "id": "e48e3b16-ba26-4aa6-8e8b-51c3fd79eaf6",
   "metadata": {},
   "outputs": [],
   "source": [
    "import pandas as pd\n",
    "from io import StringIO\n",
    "\n",
    "json = '''\n",
    "[\n",
    "  {\n",
    "    \"login\": \"galileoguzman\",\n",
    "    \"id\": 2016072,\n",
    "    \"node_id\": \"MDQ6VXNlcjIwMTYwNzI=\",\n",
    "    \"avatar_url\": \"https://avatars.githubusercontent.com/u/2016072?v=4\",\n",
    "    \"gravatar_id\": \"\",\n",
    "    \"url\": \"https://api.github.com/users/galileoguzman\",\n",
    "    \"html_url\": \"https://github.com/galileoguzman\",\n",
    "    \"followers_url\": \"https://api.github.com/users/galileoguzman/followers\",\n",
    "    \"following_url\": \"https://api.github.com/users/galileoguzman/following{/other_user}\",\n",
    "    \"gists_url\": \"https://api.github.com/users/galileoguzman/gists{/gist_id}\",\n",
    "    \"starred_url\": \"https://api.github.com/users/galileoguzman/starred{/owner}{/repo}\",\n",
    "    \"subscriptions_url\": \"https://api.github.com/users/galileoguzman/subscriptions\",\n",
    "    \"organizations_url\": \"https://api.github.com/users/galileoguzman/orgs\",\n",
    "    \"repos_url\": \"https://api.github.com/users/galileoguzman/repos\",\n",
    "    \"events_url\": \"https://api.github.com/users/galileoguzman/events{/privacy}\",\n",
    "    \"received_events_url\": \"https://api.github.com/users/galileoguzman/received_events\",\n",
    "    \"type\": \"User\",\n",
    "    \"site_admin\": false\n",
    "  },\n",
    "  {\n",
    "    \"login\": \"GerardoGarcia17\",\n",
    "    \"id\": 138039200,\n",
    "    \"node_id\": \"U_kgDOCDpPoA\",\n",
    "    \"avatar_url\": \"https://avatars.githubusercontent.com/u/138039200?v=4\",\n",
    "    \"gravatar_id\": \"\",\n",
    "    \"url\": \"https://api.github.com/users/GerardoGarcia17\",\n",
    "    \"html_url\": \"https://github.com/GerardoGarcia17\",\n",
    "    \"followers_url\": \"https://api.github.com/users/GerardoGarcia17/followers\",\n",
    "    \"following_url\": \"https://api.github.com/users/GerardoGarcia17/following{/other_user}\",\n",
    "    \"gists_url\": \"https://api.github.com/users/GerardoGarcia17/gists{/gist_id}\",\n",
    "    \"starred_url\": \"https://api.github.com/users/GerardoGarcia17/starred{/owner}{/repo}\",\n",
    "    \"subscriptions_url\": \"https://api.github.com/users/GerardoGarcia17/subscriptions\",\n",
    "    \"organizations_url\": \"https://api.github.com/users/GerardoGarcia17/orgs\",\n",
    "    \"repos_url\": \"https://api.github.com/users/GerardoGarcia17/repos\",\n",
    "    \"events_url\": \"https://api.github.com/users/GerardoGarcia17/events{/privacy}\",\n",
    "    \"received_events_url\": \"https://api.github.com/users/GerardoGarcia17/received_events\",\n",
    "    \"type\": \"User\",\n",
    "    \"site_admin\": false\n",
    "  }\n",
    "]\n",
    "'''\n",
    "\n",
    "json = StringIO(json)"
   ]
  },
  {
   "cell_type": "code",
   "execution_count": 13,
   "id": "2262f470-6133-4d48-afcb-c55c03d295bd",
   "metadata": {},
   "outputs": [
    {
     "ename": "ValueError",
     "evalue": "Expected object or value",
     "output_type": "error",
     "traceback": [
      "\u001b[0;31m---------------------------------------------------------------------------\u001b[0m",
      "\u001b[0;31mValueError\u001b[0m                                Traceback (most recent call last)",
      "Cell \u001b[0;32mIn[13], line 1\u001b[0m\n\u001b[0;32m----> 1\u001b[0m df_from_json \u001b[38;5;241m=\u001b[39m \u001b[43mpd\u001b[49m\u001b[38;5;241;43m.\u001b[39;49m\u001b[43mread_json\u001b[49m\u001b[43m(\u001b[49m\u001b[43mjson\u001b[49m\u001b[43m)\u001b[49m\n",
      "File \u001b[0;32m~/Desktop/BEDU-DATA-04-100124/.venv/lib/python3.10/site-packages/pandas/io/json/_json.py:804\u001b[0m, in \u001b[0;36mread_json\u001b[0;34m(path_or_buf, orient, typ, dtype, convert_axes, convert_dates, keep_default_dates, precise_float, date_unit, encoding, encoding_errors, lines, chunksize, compression, nrows, storage_options, dtype_backend, engine)\u001b[0m\n\u001b[1;32m    802\u001b[0m     \u001b[38;5;28;01mreturn\u001b[39;00m json_reader\n\u001b[1;32m    803\u001b[0m \u001b[38;5;28;01melse\u001b[39;00m:\n\u001b[0;32m--> 804\u001b[0m     \u001b[38;5;28;01mreturn\u001b[39;00m \u001b[43mjson_reader\u001b[49m\u001b[38;5;241;43m.\u001b[39;49m\u001b[43mread\u001b[49m\u001b[43m(\u001b[49m\u001b[43m)\u001b[49m\n",
      "File \u001b[0;32m~/Desktop/BEDU-DATA-04-100124/.venv/lib/python3.10/site-packages/pandas/io/json/_json.py:1014\u001b[0m, in \u001b[0;36mJsonReader.read\u001b[0;34m(self)\u001b[0m\n\u001b[1;32m   1012\u001b[0m         obj \u001b[38;5;241m=\u001b[39m \u001b[38;5;28mself\u001b[39m\u001b[38;5;241m.\u001b[39m_get_object_parser(\u001b[38;5;28mself\u001b[39m\u001b[38;5;241m.\u001b[39m_combine_lines(data_lines))\n\u001b[1;32m   1013\u001b[0m \u001b[38;5;28;01melse\u001b[39;00m:\n\u001b[0;32m-> 1014\u001b[0m     obj \u001b[38;5;241m=\u001b[39m \u001b[38;5;28;43mself\u001b[39;49m\u001b[38;5;241;43m.\u001b[39;49m\u001b[43m_get_object_parser\u001b[49m\u001b[43m(\u001b[49m\u001b[38;5;28;43mself\u001b[39;49m\u001b[38;5;241;43m.\u001b[39;49m\u001b[43mdata\u001b[49m\u001b[43m)\u001b[49m\n\u001b[1;32m   1015\u001b[0m \u001b[38;5;28;01mif\u001b[39;00m \u001b[38;5;28mself\u001b[39m\u001b[38;5;241m.\u001b[39mdtype_backend \u001b[38;5;129;01mis\u001b[39;00m \u001b[38;5;129;01mnot\u001b[39;00m lib\u001b[38;5;241m.\u001b[39mno_default:\n\u001b[1;32m   1016\u001b[0m     \u001b[38;5;28;01mreturn\u001b[39;00m obj\u001b[38;5;241m.\u001b[39mconvert_dtypes(\n\u001b[1;32m   1017\u001b[0m         infer_objects\u001b[38;5;241m=\u001b[39m\u001b[38;5;28;01mFalse\u001b[39;00m, dtype_backend\u001b[38;5;241m=\u001b[39m\u001b[38;5;28mself\u001b[39m\u001b[38;5;241m.\u001b[39mdtype_backend\n\u001b[1;32m   1018\u001b[0m     )\n",
      "File \u001b[0;32m~/Desktop/BEDU-DATA-04-100124/.venv/lib/python3.10/site-packages/pandas/io/json/_json.py:1040\u001b[0m, in \u001b[0;36mJsonReader._get_object_parser\u001b[0;34m(self, json)\u001b[0m\n\u001b[1;32m   1038\u001b[0m obj \u001b[38;5;241m=\u001b[39m \u001b[38;5;28;01mNone\u001b[39;00m\n\u001b[1;32m   1039\u001b[0m \u001b[38;5;28;01mif\u001b[39;00m typ \u001b[38;5;241m==\u001b[39m \u001b[38;5;124m\"\u001b[39m\u001b[38;5;124mframe\u001b[39m\u001b[38;5;124m\"\u001b[39m:\n\u001b[0;32m-> 1040\u001b[0m     obj \u001b[38;5;241m=\u001b[39m \u001b[43mFrameParser\u001b[49m\u001b[43m(\u001b[49m\u001b[43mjson\u001b[49m\u001b[43m,\u001b[49m\u001b[43m \u001b[49m\u001b[38;5;241;43m*\u001b[39;49m\u001b[38;5;241;43m*\u001b[39;49m\u001b[43mkwargs\u001b[49m\u001b[43m)\u001b[49m\u001b[38;5;241;43m.\u001b[39;49m\u001b[43mparse\u001b[49m\u001b[43m(\u001b[49m\u001b[43m)\u001b[49m\n\u001b[1;32m   1042\u001b[0m \u001b[38;5;28;01mif\u001b[39;00m typ \u001b[38;5;241m==\u001b[39m \u001b[38;5;124m\"\u001b[39m\u001b[38;5;124mseries\u001b[39m\u001b[38;5;124m\"\u001b[39m \u001b[38;5;129;01mor\u001b[39;00m obj \u001b[38;5;129;01mis\u001b[39;00m \u001b[38;5;28;01mNone\u001b[39;00m:\n\u001b[1;32m   1043\u001b[0m     \u001b[38;5;28;01mif\u001b[39;00m \u001b[38;5;129;01mnot\u001b[39;00m \u001b[38;5;28misinstance\u001b[39m(dtype, \u001b[38;5;28mbool\u001b[39m):\n",
      "File \u001b[0;32m~/Desktop/BEDU-DATA-04-100124/.venv/lib/python3.10/site-packages/pandas/io/json/_json.py:1173\u001b[0m, in \u001b[0;36mParser.parse\u001b[0;34m(self)\u001b[0m\n\u001b[1;32m   1172\u001b[0m \u001b[38;5;28;01mdef\u001b[39;00m \u001b[38;5;21mparse\u001b[39m(\u001b[38;5;28mself\u001b[39m):\n\u001b[0;32m-> 1173\u001b[0m     \u001b[38;5;28;43mself\u001b[39;49m\u001b[38;5;241;43m.\u001b[39;49m\u001b[43m_parse\u001b[49m\u001b[43m(\u001b[49m\u001b[43m)\u001b[49m\n\u001b[1;32m   1175\u001b[0m     \u001b[38;5;28;01mif\u001b[39;00m \u001b[38;5;28mself\u001b[39m\u001b[38;5;241m.\u001b[39mobj \u001b[38;5;129;01mis\u001b[39;00m \u001b[38;5;28;01mNone\u001b[39;00m:\n\u001b[1;32m   1176\u001b[0m         \u001b[38;5;28;01mreturn\u001b[39;00m \u001b[38;5;28;01mNone\u001b[39;00m\n",
      "File \u001b[0;32m~/Desktop/BEDU-DATA-04-100124/.venv/lib/python3.10/site-packages/pandas/io/json/_json.py:1366\u001b[0m, in \u001b[0;36mFrameParser._parse\u001b[0;34m(self)\u001b[0m\n\u001b[1;32m   1362\u001b[0m orient \u001b[38;5;241m=\u001b[39m \u001b[38;5;28mself\u001b[39m\u001b[38;5;241m.\u001b[39morient\n\u001b[1;32m   1364\u001b[0m \u001b[38;5;28;01mif\u001b[39;00m orient \u001b[38;5;241m==\u001b[39m \u001b[38;5;124m\"\u001b[39m\u001b[38;5;124mcolumns\u001b[39m\u001b[38;5;124m\"\u001b[39m:\n\u001b[1;32m   1365\u001b[0m     \u001b[38;5;28mself\u001b[39m\u001b[38;5;241m.\u001b[39mobj \u001b[38;5;241m=\u001b[39m DataFrame(\n\u001b[0;32m-> 1366\u001b[0m         \u001b[43mujson_loads\u001b[49m\u001b[43m(\u001b[49m\u001b[43mjson\u001b[49m\u001b[43m,\u001b[49m\u001b[43m \u001b[49m\u001b[43mprecise_float\u001b[49m\u001b[38;5;241;43m=\u001b[39;49m\u001b[38;5;28;43mself\u001b[39;49m\u001b[38;5;241;43m.\u001b[39;49m\u001b[43mprecise_float\u001b[49m\u001b[43m)\u001b[49m, dtype\u001b[38;5;241m=\u001b[39m\u001b[38;5;28;01mNone\u001b[39;00m\n\u001b[1;32m   1367\u001b[0m     )\n\u001b[1;32m   1368\u001b[0m \u001b[38;5;28;01melif\u001b[39;00m orient \u001b[38;5;241m==\u001b[39m \u001b[38;5;124m\"\u001b[39m\u001b[38;5;124msplit\u001b[39m\u001b[38;5;124m\"\u001b[39m:\n\u001b[1;32m   1369\u001b[0m     decoded \u001b[38;5;241m=\u001b[39m {\n\u001b[1;32m   1370\u001b[0m         \u001b[38;5;28mstr\u001b[39m(k): v\n\u001b[1;32m   1371\u001b[0m         \u001b[38;5;28;01mfor\u001b[39;00m k, v \u001b[38;5;129;01min\u001b[39;00m ujson_loads(json, precise_float\u001b[38;5;241m=\u001b[39m\u001b[38;5;28mself\u001b[39m\u001b[38;5;241m.\u001b[39mprecise_float)\u001b[38;5;241m.\u001b[39mitems()\n\u001b[1;32m   1372\u001b[0m     }\n",
      "\u001b[0;31mValueError\u001b[0m: Expected object or value"
     ]
    }
   ],
   "source": [
    "df_from_json = pd.read_json(json)"
   ]
  },
  {
   "cell_type": "code",
   "execution_count": 15,
   "id": "e43c113b-6d7c-410e-9b59-44178a9fbab4",
   "metadata": {},
   "outputs": [
    {
     "name": "stdout",
     "output_type": "stream",
     "text": [
      "             login         id               node_id  \\\n",
      "0    galileoguzman    2016072  MDQ6VXNlcjIwMTYwNzI=   \n",
      "1  GerardoGarcia17  138039200          U_kgDOCDpPoA   \n",
      "\n",
      "                                          avatar_url gravatar_id  \\\n",
      "0  https://avatars.githubusercontent.com/u/201607...               \n",
      "1  https://avatars.githubusercontent.com/u/138039...               \n",
      "\n",
      "                                            url  \\\n",
      "0    https://api.github.com/users/galileoguzman   \n",
      "1  https://api.github.com/users/GerardoGarcia17   \n",
      "\n",
      "                             html_url  \\\n",
      "0    https://github.com/galileoguzman   \n",
      "1  https://github.com/GerardoGarcia17   \n",
      "\n",
      "                                       followers_url  \\\n",
      "0  https://api.github.com/users/galileoguzman/fol...   \n",
      "1  https://api.github.com/users/GerardoGarcia17/f...   \n",
      "\n",
      "                                       following_url  \\\n",
      "0  https://api.github.com/users/galileoguzman/fol...   \n",
      "1  https://api.github.com/users/GerardoGarcia17/f...   \n",
      "\n",
      "                                           gists_url  \\\n",
      "0  https://api.github.com/users/galileoguzman/gis...   \n",
      "1  https://api.github.com/users/GerardoGarcia17/g...   \n",
      "\n",
      "                                         starred_url  \\\n",
      "0  https://api.github.com/users/galileoguzman/sta...   \n",
      "1  https://api.github.com/users/GerardoGarcia17/s...   \n",
      "\n",
      "                                   subscriptions_url  \\\n",
      "0  https://api.github.com/users/galileoguzman/sub...   \n",
      "1  https://api.github.com/users/GerardoGarcia17/s...   \n",
      "\n",
      "                                   organizations_url  \\\n",
      "0    https://api.github.com/users/galileoguzman/orgs   \n",
      "1  https://api.github.com/users/GerardoGarcia17/orgs   \n",
      "\n",
      "                                           repos_url  \\\n",
      "0   https://api.github.com/users/galileoguzman/repos   \n",
      "1  https://api.github.com/users/GerardoGarcia17/r...   \n",
      "\n",
      "                                          events_url  \\\n",
      "0  https://api.github.com/users/galileoguzman/eve...   \n",
      "1  https://api.github.com/users/GerardoGarcia17/e...   \n",
      "\n",
      "                                 received_events_url  type  site_admin  \n",
      "0  https://api.github.com/users/galileoguzman/rec...  User       False  \n",
      "1  https://api.github.com/users/GerardoGarcia17/r...  User       False  \n"
     ]
    }
   ],
   "source": [
    "print(df_from_json)"
   ]
  },
  {
   "cell_type": "code",
   "execution_count": null,
   "id": "9d7e1951-1c22-4095-9c7f-406a6f4b181f",
   "metadata": {},
   "outputs": [],
   "source": []
  }
 ],
 "metadata": {
  "kernelspec": {
   "display_name": "Python 3 (ipykernel)",
   "language": "python",
   "name": "python3"
  },
  "language_info": {
   "codemirror_mode": {
    "name": "ipython",
    "version": 3
   },
   "file_extension": ".py",
   "mimetype": "text/x-python",
   "name": "python",
   "nbconvert_exporter": "python",
   "pygments_lexer": "ipython3",
   "version": "3.10.5"
  }
 },
 "nbformat": 4,
 "nbformat_minor": 5
}
