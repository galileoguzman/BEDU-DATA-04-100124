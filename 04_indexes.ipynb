{
 "cells": [
  {
   "cell_type": "code",
   "execution_count": 1,
   "id": "78c0c618-9f2e-4e93-984d-5a4ee9a20eeb",
   "metadata": {},
   "outputs": [
    {
     "name": "stdout",
     "output_type": "stream",
     "text": [
      "a      5.0\n",
      "b      6.0\n",
      "c      7.0\n",
      "d      NaN\n",
      "e    212.0\n",
      "f     12.0\n",
      "g     12.0\n",
      "dtype: float64\n"
     ]
    }
   ],
   "source": [
    "import pandas as pd\n",
    "\n",
    "# Indexes \n",
    "data = [5, 6, 7, None, 212, 12, 12]\n",
    "custom_indexes = ['a', 'b', 'c', 'd', 'e', 'f', 'g']\n",
    "series_custom_indexes = pd.Series(data, custom_indexes)\n",
    "\n",
    "print(series_custom_indexes)"
   ]
  },
  {
   "cell_type": "code",
   "execution_count": null,
   "id": "a256c4d0-d5cd-48f8-87bc-d4904bdb594f",
   "metadata": {},
   "outputs": [],
   "source": []
  }
 ],
 "metadata": {
  "kernelspec": {
   "display_name": "Python 3 (ipykernel)",
   "language": "python",
   "name": "python3"
  },
  "language_info": {
   "codemirror_mode": {
    "name": "ipython",
    "version": 3
   },
   "file_extension": ".py",
   "mimetype": "text/x-python",
   "name": "python",
   "nbconvert_exporter": "python",
   "pygments_lexer": "ipython3",
   "version": "3.10.5"
  }
 },
 "nbformat": 4,
 "nbformat_minor": 5
}
